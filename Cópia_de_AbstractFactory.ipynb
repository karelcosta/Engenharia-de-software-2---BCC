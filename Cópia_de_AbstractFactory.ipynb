{
  "nbformat": 4,
  "nbformat_minor": 0,
  "metadata": {
    "colab": {
      "provenance": [],
      "include_colab_link": true
    },
    "kernelspec": {
      "name": "python3",
      "display_name": "Python 3"
    },
    "language_info": {
      "name": "python"
    }
  },
  "cells": [
    {
      "cell_type": "markdown",
      "metadata": {
        "id": "view-in-github",
        "colab_type": "text"
      },
      "source": [
        "<a href=\"https://colab.research.google.com/github/karelcosta/Engenharia_de_software_2_BCC/blob/main/C%C3%B3pia_de_AbstractFactory.ipynb\" target=\"_parent\"><img src=\"https://colab.research.google.com/assets/colab-badge.svg\" alt=\"Open In Colab\"/></a>"
      ]
    },
    {
      "cell_type": "code",
      "execution_count": 26,
      "metadata": {
        "id": "EmPxQXXsR7x0"
      },
      "outputs": [],
      "source": [
        "import abc\n",
        "class Pizza:\n",
        "  @abc.abstractmethod\n",
        "  def preparar(self):\n",
        "    pass"
      ]
    },
    {
      "cell_type": "code",
      "source": [
        "class PizzaVegana(Pizza):\n",
        "  def preparar(self):\n",
        "    print(type(self).__name__)\n",
        "class PizzaNaoVegana(Pizza):\n",
        "  def preparar(self):\n",
        "    print(type(self).__name__)\n",
        "class PizzaItalianaVegana(Pizza):\n",
        "  def preparar(self):\n",
        "    print(type(self).__name__)\n",
        "class PizzaItalianaNaoVegana(Pizza):\n",
        "  def preparar(self):\n",
        "    print(type(self).__name__)\n",
        "class PizzaMexicanaNaoVegana(Pizza):\n",
        "  def preparar(self):\n",
        "    print(type(self).__name__)\n",
        "class PizzaMexicanaVegana(Pizza):\n",
        "  def preparar(self):\n",
        "    print(type(self).__name__)"
      ],
      "metadata": {
        "id": "uiV7AmcVU3jh"
      },
      "execution_count": 27,
      "outputs": []
    },
    {
      "cell_type": "code",
      "source": [
        "class PizzaFactory: \n",
        "  def createVegPizza(self):\n",
        "    return PizzaVegana()\n",
        "  def createNonVegPizza(self): \n",
        "    return PizzaNaoVegana()\n",
        "  def createVegPizzaItaliana(self): \n",
        "    return PizzaItalianaVegana()\n",
        "  def createNonVegPizzaItaliana(self): \n",
        "    return PizzaItalianaNaoVegana()\n",
        "  def createNonVegPizzaMexicana(self):\n",
        "    return PizzaMexicanaNaoVegana()\n",
        "  def createVegPizzaMexicana(self):\n",
        "    return PizzaMexicanaVegana()"
      ],
      "metadata": {
        "id": "PT9OeD-EVoxB"
      },
      "execution_count": 28,
      "outputs": []
    },
    {
      "cell_type": "code",
      "source": [
        "fabrica=PizzaFactory()\n",
        "vegan=fabrica.createVegPizza()\n",
        "vegan.preparar()\n",
        "italiana = fabrica.createNonVegPizzaItaliana()\n",
        "italiana.preparar()\n",
        "mexicanaVeg=fabrica.createVegPizzaMexicana()\n",
        "mexicanaVeg.preparar()\n",
        "\n"
      ],
      "metadata": {
        "id": "HugZPbBZbyDN",
        "colab": {
          "base_uri": "https://localhost:8080/"
        },
        "outputId": "f43c5764-3910-4ddf-985c-1679d9521999"
      },
      "execution_count": 33,
      "outputs": [
        {
          "output_type": "stream",
          "name": "stdout",
          "text": [
            "PizzaVegana\n",
            "PizzaItalianaNaoVegana\n",
            "PizzaMexicanaVegana\n"
          ]
        }
      ]
    }
  ]
}